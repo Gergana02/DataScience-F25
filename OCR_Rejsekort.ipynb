{
 "cells": [
  {
   "cell_type": "code",
   "execution_count": 1,
   "id": "426366f2",
   "metadata": {},
   "outputs": [
    {
     "name": "stdout",
     "output_type": "stream",
     "text": [
      "Requirement already satisfied: azure-cognitiveservices-vision-computervision in c:\\users\\gerga\\anaconda3\\lib\\site-packages (0.9.1)\n",
      "Requirement already satisfied: msrest>=0.6.21 in c:\\users\\gerga\\anaconda3\\lib\\site-packages (from azure-cognitiveservices-vision-computervision) (0.7.1)\n",
      "Requirement already satisfied: azure-common~=1.1 in c:\\users\\gerga\\anaconda3\\lib\\site-packages (from azure-cognitiveservices-vision-computervision) (1.1.28)\n",
      "Requirement already satisfied: azure-core>=1.24.0 in c:\\users\\gerga\\anaconda3\\lib\\site-packages (from msrest>=0.6.21->azure-cognitiveservices-vision-computervision) (1.34.0)\n",
      "Requirement already satisfied: certifi>=2017.4.17 in c:\\users\\gerga\\python3.10\\lib\\site-packages (from msrest>=0.6.21->azure-cognitiveservices-vision-computervision) (2023.5.7)\n",
      "Requirement already satisfied: isodate>=0.6.0 in c:\\users\\gerga\\anaconda3\\lib\\site-packages (from msrest>=0.6.21->azure-cognitiveservices-vision-computervision) (0.7.2)\n",
      "Requirement already satisfied: requests-oauthlib>=0.5.0 in c:\\users\\gerga\\python3.10\\lib\\site-packages (from msrest>=0.6.21->azure-cognitiveservices-vision-computervision) (1.3.1)\n",
      "Requirement already satisfied: requests~=2.16 in c:\\users\\gerga\\python3.10\\lib\\site-packages (from msrest>=0.6.21->azure-cognitiveservices-vision-computervision) (2.30.0)\n",
      "Requirement already satisfied: six>=1.11.0 in c:\\users\\gerga\\python3.10\\lib\\site-packages (from azure-core>=1.24.0->msrest>=0.6.21->azure-cognitiveservices-vision-computervision) (1.16.0)\n",
      "Requirement already satisfied: typing-extensions>=4.6.0 in c:\\users\\gerga\\python3.10\\lib\\site-packages (from azure-core>=1.24.0->msrest>=0.6.21->azure-cognitiveservices-vision-computervision) (4.12.2)\n",
      "Requirement already satisfied: charset-normalizer<4,>=2 in c:\\users\\gerga\\python3.10\\lib\\site-packages (from requests~=2.16->msrest>=0.6.21->azure-cognitiveservices-vision-computervision) (3.1.0)\n",
      "Requirement already satisfied: idna<4,>=2.5 in c:\\users\\gerga\\python3.10\\lib\\site-packages (from requests~=2.16->msrest>=0.6.21->azure-cognitiveservices-vision-computervision) (3.4)\n",
      "Requirement already satisfied: urllib3<3,>=1.21.1 in c:\\users\\gerga\\python3.10\\lib\\site-packages (from requests~=2.16->msrest>=0.6.21->azure-cognitiveservices-vision-computervision) (1.26.15)\n",
      "Requirement already satisfied: oauthlib>=3.0.0 in c:\\users\\gerga\\python3.10\\lib\\site-packages (from requests-oauthlib>=0.5.0->msrest>=0.6.21->azure-cognitiveservices-vision-computervision) (3.2.2)\n"
     ]
    },
    {
     "name": "stderr",
     "output_type": "stream",
     "text": [
      "\n",
      "[notice] A new release of pip is available: 23.1.2 -> 25.1.1\n",
      "[notice] To update, run: python.exe -m pip install --upgrade pip\n"
     ]
    },
    {
     "name": "stdout",
     "output_type": "stream",
     "text": [
      "Requirement already satisfied: pillow in c:\\users\\gerga\\python3.10\\lib\\site-packages (9.5.0)\n"
     ]
    },
    {
     "name": "stderr",
     "output_type": "stream",
     "text": [
      "\n",
      "[notice] A new release of pip is available: 23.1.2 -> 25.1.1\n",
      "[notice] To update, run: python.exe -m pip install --upgrade pip\n"
     ]
    }
   ],
   "source": [
    "!pip install --upgrade azure-cognitiveservices-vision-computervision\n",
    "!pip install pillow"
   ]
  },
  {
   "cell_type": "code",
   "execution_count": 40,
   "id": "c2085dcb",
   "metadata": {},
   "outputs": [],
   "source": [
    "from azure.cognitiveservices.vision.computervision import ComputerVisionClient\n",
    "from msrest.authentication import CognitiveServicesCredentials\n",
    "from array import array\n",
    "import os\n",
    "from PIL import Image\n",
    "import sys\n",
    "import time\n",
    "import re\n",
    "import pandas as pd\n",
    "from datetime import datetime\n",
    "from datetime import timedelta\n",
    "import numpy as np\n",
    "from geopy.distance import geodesic\n",
    "import folium\n",
    "import holidays\n"
   ]
  },
  {
   "cell_type": "code",
   "execution_count": null,
   "id": "cb18571a",
   "metadata": {},
   "outputs": [],
   "source": [
    "subscription_key = 'MCpv4Z6aiXGPnLUcXuRcSsN9CI126O7ka93O7eWw4stezHS5nzPfJQQJ99BEAC5RqLJXJ3w3AAAFACOGc3CM'\n",
    "endpoint = 'https://rejsekortocrwesteurope.cognitiveservices.azure.com/'\n",
    "computervision_client = ComputerVisionClient(endpoint, CognitiveServicesCredentials(subscription_key))"
   ]
  },
  {
   "cell_type": "code",
   "execution_count": 14,
   "id": "34c0d0c7",
   "metadata": {},
   "outputs": [],
   "source": [
    "# Local image path\n",
    "image_path = r\"C:\\Users\\gerga\\OneDrive\\Desktop\\Rejsekort\\Rejsekort 1.jpg\"\n",
    "\n",
    "# Open the file\n",
    "with open(image_path, \"rb\") as image_stream:\n",
    "    ocr_result = computervision_client.read_in_stream(image_stream, raw=True)\n",
    "\n",
    "# Get the operation location (URL with an ID)\n",
    "operation_location = ocr_result.headers[\"Operation-Location\"]\n",
    "operation_id = operation_location.split(\"/\")[-1]\n"
   ]
  },
  {
   "cell_type": "code",
   "execution_count": null,
   "id": "f0c8e9ea",
   "metadata": {},
   "outputs": [
    {
     "name": "stdout",
     "output_type": "stream",
     "text": [
      "11/3/24\n",
      "09:19 Vestre Ringgade/Silkeborgvej (Aarhus Kom)\n",
      "09:42 Skøjtehallen/Halmstadgade (Aarhus Kom)\n",
      "DKK 18.00 >\n",
      "11/2/24\n",
      "20:00 Aarhus Tech/Dollerupvej (Aarhus Kom)\n",
      "20:07 Klostertorvet (Aarhus Kom)\n",
      "DKK 18.00 >\n"
     ]
    }
   ],
   "source": [
    "while True:\n",
    "    result = computervision_client.get_read_result(operation_id)\n",
    "    if result.status not in ['notStarted', 'running']:\n",
    "        break\n",
    "    time.sleep(1)\n",
    "\n",
    "# Parse the result\n",
    "if result.status == \"succeeded\":\n",
    "    for page in result.analyze_result.read_results:\n",
    "        for line in page.lines:\n",
    "            print(line.text)\n"
   ]
  },
  {
   "cell_type": "code",
   "execution_count": null,
   "id": "e54db4f4",
   "metadata": {},
   "outputs": [
    {
     "name": "stdout",
     "output_type": "stream",
     "text": [
      "📄 Processing: Rejsekort 1.jpg\n",
      "📄 Processing: Rejsekort 10.jpg\n",
      "📄 Processing: Rejsekort 11.jpg\n",
      "📄 Processing: Rejsekort 12.jpg\n",
      "📄 Processing: Rejsekort 13.jpg\n",
      "📄 Processing: Rejsekort 14.jpg\n",
      "📄 Processing: Rejsekort 15.jpg\n",
      "📄 Processing: Rejsekort 16.jpg\n",
      "📄 Processing: Rejsekort 17.jpg\n",
      "📄 Processing: Rejsekort 18.jpg\n",
      "📄 Processing: Rejsekort 19.jpg\n",
      "📄 Processing: Rejsekort 2.jpg\n",
      "📄 Processing: Rejsekort 20.jpg\n",
      "📄 Processing: Rejsekort 21.jpg\n",
      "📄 Processing: Rejsekort 22.jpg\n",
      "📄 Processing: Rejsekort 23.jpg\n",
      "📄 Processing: Rejsekort 24.jpg\n",
      "📄 Processing: Rejsekort 25.jpg\n",
      "📄 Processing: Rejsekort 26.jpg\n",
      "📄 Processing: Rejsekort 27.jpg\n",
      "📄 Processing: Rejsekort 28.jpg\n",
      "📄 Processing: Rejsekort 29.jpg\n",
      "📄 Processing: Rejsekort 3.jpg\n",
      "📄 Processing: Rejsekort 30.jpg\n",
      "📄 Processing: Rejsekort 31.jpg\n",
      "📄 Processing: Rejsekort 32.jpg\n",
      "📄 Processing: Rejsekort 33.jpg\n",
      "📄 Processing: Rejsekort 34.jpg\n",
      "📄 Processing: Rejsekort 35.jpg\n",
      "📄 Processing: Rejsekort 36.jpg\n",
      "📄 Processing: Rejsekort 37.jpg\n",
      "📄 Processing: Rejsekort 38.jpg\n",
      "📄 Processing: Rejsekort 39.jpg\n",
      "📄 Processing: Rejsekort 4.jpg\n",
      "📄 Processing: Rejsekort 40.jpg\n",
      "📄 Processing: Rejsekort 41.jpg\n",
      "📄 Processing: Rejsekort 42.jpg\n",
      "📄 Processing: Rejsekort 43.jpg\n",
      "📄 Processing: Rejsekort 44.jpg\n",
      "📄 Processing: Rejsekort 45.jpg\n",
      "📄 Processing: Rejsekort 46.jpg\n",
      "📄 Processing: Rejsekort 47.jpg\n",
      "📄 Processing: Rejsekort 48.jpg\n",
      "📄 Processing: Rejsekort 49.jpg\n",
      "📄 Processing: Rejsekort 5.jpg\n",
      "📄 Processing: Rejsekort 50.jpg\n",
      "📄 Processing: Rejsekort 51.jpg\n",
      "📄 Processing: Rejsekort 52.jpg\n",
      "📄 Processing: Rejsekort 53.jpg\n",
      "📄 Processing: Rejsekort 54.jpg\n",
      "📄 Processing: Rejsekort 55.jpg\n",
      "📄 Processing: Rejsekort 56.jpg\n",
      "📄 Processing: Rejsekort 57.jpg\n",
      "📄 Processing: Rejsekort 58.jpg\n",
      "📄 Processing: Rejsekort 59.jpg\n",
      "📄 Processing: Rejsekort 6.jpg\n",
      "📄 Processing: Rejsekort 60.jpg\n",
      "📄 Processing: Rejsekort 61.jpg\n",
      "📄 Processing: Rejsekort 62.jpg\n",
      "📄 Processing: Rejsekort 63.jpg\n",
      "📄 Processing: Rejsekort 64.jpg\n",
      "📄 Processing: Rejsekort 65.jpg\n",
      "📄 Processing: Rejsekort 66.jpg\n",
      "📄 Processing: Rejsekort 67.jpg\n",
      "📄 Processing: Rejsekort 68.jpg\n",
      "📄 Processing: Rejsekort 69.jpg\n",
      "📄 Processing: Rejsekort 7.jpg\n",
      "📄 Processing: Rejsekort 70.jpg\n",
      "📄 Processing: Rejsekort 71.jpg\n",
      "📄 Processing: Rejsekort 72.jpg\n",
      "📄 Processing: Rejsekort 73.jpg\n",
      "📄 Processing: Rejsekort 74.jpg\n",
      "📄 Processing: Rejsekort 75.jpg\n",
      "📄 Processing: Rejsekort 76.jpg\n",
      "📄 Processing: Rejsekort 77.jpg\n",
      "📄 Processing: Rejsekort 78.jpg\n",
      "📄 Processing: Rejsekort 79.jpg\n",
      "📄 Processing: Rejsekort 8.jpg\n",
      "📄 Processing: Rejsekort 80.jpg\n",
      "📄 Processing: Rejsekort 81.jpg\n",
      "📄 Processing: Rejsekort 9.jpg\n",
      "Finished: All data saved to 'rejsekort_jpg_extracted.csv'\n"
     ]
    }
   ],
   "source": [
    "source_folder = r\"C:\\Users\\gerga\\OneDrive\\Desktop\\Rejsekort\"\n",
    "output_data = []\n",
    "\n",
    "\n",
    "\n",
    "for filename in os.listdir(source_folder):\n",
    "    if filename.lower().endswith(\".jpg\"):\n",
    "        filepath = os.path.join(source_folder, filename)\n",
    "        print(f\"📄 Processing: {filename}\")\n",
    "\n",
    "        # --- OCR with Azure ---\n",
    "        with open(filepath, \"rb\") as image_stream:\n",
    "            ocr_result = computervision_client.read_in_stream(image_stream, raw=True)\n",
    "\n",
    "        operation_id = ocr_result.headers[\"Operation-Location\"].split(\"/\")[-1]\n",
    "\n",
    "        while True:\n",
    "            result = computervision_client.get_read_result(operation_id)\n",
    "            if result.status not in ['notStarted', 'running']:\n",
    "                break\n",
    "            time.sleep(1)\n",
    "\n",
    "        if result.status != \"succeeded\":\n",
    "            print(f\"OCR failed for {filename}\")\n",
    "            continue\n",
    "\n",
    "        # --- Collect all lines of text ---\n",
    "        lines = []\n",
    "        for page in result.analyze_result.read_results:\n",
    "            lines.extend([line.text.strip() for line in page.lines])\n",
    "\n",
    "        current_date = None\n",
    "        for i in range(len(lines) - 2):\n",
    "            # Detect and update current date\n",
    "            if re.match(r\"\\d{1,2}/\\d{1,2}/\\d{2,4}\", lines[i]):\n",
    "                current_date = datetime.strptime(lines[i], \"%m/%d/%y\").strftime(\"%Y-%m-%d\")\n",
    "\n",
    "            # Try parsing a journey from 3 lines: dep, arr, fare\n",
    "            dep_match = re.match(r\"(\\d{2}:\\d{2})\\s+(.*)\", lines[i])\n",
    "            arr_match = re.match(r\"(\\d{2}:\\d{2})\\s+(.*)\", lines[i + 1])\n",
    "            fare_match = re.search(r\"DKK\\s+([0-9]+[.,][0-9]{2})\", lines[i + 2])\n",
    "\n",
    "            if dep_match and arr_match and fare_match:\n",
    "                from_time = dep_match.group(1)\n",
    "                from_stop = dep_match.group(2).strip()\n",
    "                to_time = arr_match.group(1)\n",
    "                to_stop = arr_match.group(2).strip()\n",
    "                fare = float(fare_match.group(1).replace(\",\", \".\"))\n",
    "\n",
    "                output_data.append({\n",
    "                    \"Date\": current_date,\n",
    "                    \"Departure Time\": from_time,\n",
    "                    \"Departure Stop\": from_stop,\n",
    "                    \"Arrival Time\": to_time,\n",
    "                    \"Arrival Stop\": to_stop,\n",
    "                    \"Fare DKK\": fare,\n",
    "                    \"Filename\": filename\n",
    "                })\n",
    "\n",
    "        time.sleep(3)  # Wait 3 seconds before processing the next file\n",
    "\n",
    "\n",
    "# === Save all extracted data to CSV ===\n",
    "df = pd.DataFrame(output_data)\n",
    "df.to_csv(\"rejsekort_jpg_extracted.csv\", index=False)\n",
    "print(\"Finished: All data saved to 'rejsekort_jpg_extracted.csv'\")"
   ]
  }
 ],
 "metadata": {
  "kernelspec": {
   "display_name": "base",
   "language": "python",
   "name": "python3"
  },
  "language_info": {
   "codemirror_mode": {
    "name": "ipython",
    "version": 3
   },
   "file_extension": ".py",
   "mimetype": "text/x-python",
   "name": "python",
   "nbconvert_exporter": "python",
   "pygments_lexer": "ipython3",
   "version": "3.10.9"
  }
 },
 "nbformat": 4,
 "nbformat_minor": 5
}
